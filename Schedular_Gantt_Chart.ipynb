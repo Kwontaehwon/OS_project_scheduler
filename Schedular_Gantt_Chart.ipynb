{
  "cells": [
    {
      "cell_type": "code",
      "execution_count": 94,
      "metadata": {
        "colab": {
          "base_uri": "https://localhost:8080/",
          "height": 297
        },
        "id": "NEsYsGbSwBeL",
        "outputId": "a0a1cea2-eefe-4f48-bb13-c63ddd4d90cd"
      },
      "outputs": [
        {
          "name": "stdout",
          "output_type": "stream",
          "text": [
            "3 1\n"
          ]
        },
        {
          "data": {
            "image/png": "[encoded data removed]",
            "text/plain": [
              "<Figure size 432x288 with 1 Axes>"
            ]
          },
          "metadata": {
            "needs_background": "light"
          },
          "output_type": "display_data"
        }
      ],
      "source": [
        "import matplotlib.pyplot as plt\n",
        "import string\n",
        "import random\n",
        "\n",
        "fig, gnt = plt.subplots()\n",
        "\n",
        "f = open(\"pytxt.txt\", 'r')\n",
        "line = f.readline()\n",
        "line = line.strip()\n",
        "run_tuple = tuple(map(int, line.split(' ')))\n",
        "\n",
        "\n",
        "process_num = run_tuple[0] # process의 총 갯수\n",
        "finsh_time = 1 # 마지막 프로세스가 끝나는 시간\n",
        "\n",
        "process_list = [] # 프로세스를 저장할 리스트\n",
        "y_ticks = [] # 그래프의 위치\n",
        "y_ticks_label = [] # y축 Label\n",
        "\n",
        "# 프로세스 갯수만큼 y축 설정, 이중리스트 생성\n",
        "for i in range(process_num):\n",
        "    line = []\n",
        "    process_list.append(line)\n",
        "    y_ticks.append((i) * 10 + 15)\n",
        "    y_ticks_label.append(i+1)\n",
        "\n",
        "# 파일을 끝까지 읽으며 프로세스 정보(튜플)를 리스트에 넣음.\n",
        "while True:\n",
        "    line = f.readline()\n",
        "    #EOF\n",
        "    if not line: \n",
        "        break\n",
        "    line = line.strip()\n",
        "    inp = tuple(map(int, line.split(' ')))\n",
        "    \n",
        "    # 다 읽었을 때\n",
        "    if len(inp) == 1 :\n",
        "        finsh_time = inp[0];\n",
        "        break;\n",
        "    \n",
        "    tu = (inp[1], inp[2])\n",
        "    finsh_time += inp[2]\n",
        "    process_list[inp[0]-1].append(tu)\n",
        "f.close()\n",
        "\n",
        "\n",
        "gnt.set_xlim(0, finsh_time) #set_xlim(x축 시작값, x축 끝값)\n",
        "gnt.set_ylim(0, 15 * process_num) #set_ylim(y축 시작값, y축 끝값)\n",
        "\n",
        "# x축, y축 label\n",
        "gnt.set_xlabel('Gantt Chart')\n",
        "gnt.set_ylabel('Process')\n",
        "\n",
        "\n",
        "gnt.set_yticks(y_ticks) # y축 값의 위치\n",
        "gnt.set_yticklabels(y_ticks_label) # y값 label\n",
        "gnt.grid(True)\n",
        "\n",
        "\n",
        "# 프로세스를 Gantt-Chart 형태로 보여줌\n",
        "for i in range(process_num):\n",
        "    color = (\"#\" + ''.join(random.choices(\"ABCDEF\" + string.digits, k=6))) # 랜덤 색상\n",
        "    gnt.broken_barh(process_list[i], (i*10 + 10, 10),\n",
        "\t\t\t\t\t\tfacecolors =color)\n",
        "\n",
        "# 결과를 저장\n",
        "plt.savefig(\"result_gantt.png\")"
      ]
    }
  ],
  "metadata": {
    "colab": {
      "collapsed_sections": [],
      "name": "Schedular Gantt Chart.ipynb",
      "provenance": []
    },
    "kernelspec": {
      "display_name": "Python 3",
      "name": "python3"
    },
    "language_info": {
      "name": "python"
    }
  },
  "nbformat": 4,
  "nbformat_minor": 0
}
